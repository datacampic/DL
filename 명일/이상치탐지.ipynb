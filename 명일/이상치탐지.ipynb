{
  "nbformat": 4,
  "nbformat_minor": 0,
  "metadata": {
    "colab": {
      "name": "이상치탐지.ipynb",
      "private_outputs": true,
      "provenance": [],
      "collapsed_sections": []
    },
    "kernelspec": {
      "name": "python3",
      "display_name": "Python 3"
    },
    "language_info": {
      "name": "python"
    }
  },
  "cells": [
    {
      "cell_type": "code",
      "execution_count": null,
      "metadata": {
        "id": "HNNzY-7tcp2P"
      },
      "outputs": [],
      "source": [
        "from google.colab import drive\n",
        "drive.mount('/content/drive')"
      ]
    },
    {
      "cell_type": "code",
      "source": [
        "%cd /content/drive/MyDrive/Git/campic_project/이상치탐지공모전\n",
        "\n",
        "\n",
        "!unzip -qq \"/content/drive/MyDrive/Git/campic_project/이상치탐지공모전/open.zip\""
      ],
      "metadata": {
        "id": "H7xcq37bef7B"
      },
      "execution_count": null,
      "outputs": []
    },
    {
      "cell_type": "code",
      "source": [
        "%cd /content/drive/MyDrive/Git/campic_project/이상치탐지공모전/open\n",
        "\n",
        "\n",
        "!unzip -qq \"/content/drive/MyDrive/Git/campic_project/이상치탐지공모전/open/train.zip\""
      ],
      "metadata": {
        "id": "9T7QJCzIep38"
      },
      "execution_count": null,
      "outputs": []
    },
    {
      "cell_type": "code",
      "source": [
        "import pandas as pd\n",
        "import numpy as np\n",
        "import os\n",
        "import json\n",
        "import cv2\n",
        "import matplotlib.pyplot as plt\n",
        "from google.colab.patches import cv2_imshow\n",
        "from glob import glob\n",
        "from pprint import pprint\n",
        "\n",
        "import torch\n",
        "import torch.nn as nn\n",
        "import torch.optim as optim\n",
        "import torch.nn.functional as F\n",
        "import torchvision\n",
        "from torchvision import transforms\n",
        "from torch.utils.data import Dataset, DataLoader\n"
      ],
      "metadata": {
        "id": "eGXqvHLjgB7v"
      },
      "execution_count": null,
      "outputs": []
    },
    {
      "cell_type": "code",
      "source": [
        "data = pd.read_csv('/content/drive/MyDrive/Git/campic_project/이상치탐지공모전/open/train_df.csv')"
      ],
      "metadata": {
        "id": "LL9uv8kO3sVY"
      },
      "execution_count": null,
      "outputs": []
    },
    {
      "cell_type": "code",
      "source": [
        "data.head()"
      ],
      "metadata": {
        "id": "INtHMHus3sSw"
      },
      "execution_count": null,
      "outputs": []
    },
    {
      "cell_type": "code",
      "source": [
        "filepath = '/content/drive/MyDrive/Git/campic_project/이상치탐지공모전/open/train/10000.png'\n",
        "\n",
        "img= cv2.imread(filepath, cv2.IMREAD_COLOR)\n",
        "cv2_imshow(img)\n",
        "\n",
        "cv2.waitKey(0)\n",
        "\n",
        "print(img.shape)"
      ],
      "metadata": {
        "id": "_a5f4SeV3sQr"
      },
      "execution_count": null,
      "outputs": []
    },
    {
      "cell_type": "code",
      "source": [
        "filepath = '/content/drive/MyDrive/Git/campic_project/이상치탐지공모전/open/train/10001.png'\n",
        "\n",
        "img= cv2.imread(filepath, cv2.IMREAD_COLOR)\n",
        "cv2_imshow(img)\n",
        "\n",
        "cv2.waitKey(0)\n",
        "\n",
        "print(img.shape)"
      ],
      "metadata": {
        "id": "DQGajDv2Y6go"
      },
      "execution_count": null,
      "outputs": []
    },
    {
      "cell_type": "code",
      "source": [
        "data['class'].unique()"
      ],
      "metadata": {
        "id": "8YyXVB3B3sOM"
      },
      "execution_count": null,
      "outputs": []
    },
    {
      "cell_type": "code",
      "source": [
        "data['state'].unique()"
      ],
      "metadata": {
        "id": "kXVKIkec3sL4"
      },
      "execution_count": null,
      "outputs": []
    },
    {
      "cell_type": "code",
      "source": [
        "len(data['file_name'])"
      ],
      "metadata": {
        "id": "JN0_4ne73sJL"
      },
      "execution_count": null,
      "outputs": []
    },
    {
      "cell_type": "code",
      "source": [
        "file_list = list(os.listdir(\"/content/drive/MyDrive/Git/campic_project/이상치탐지공모전/open/train\"))"
      ],
      "metadata": {
        "id": "lVVuuf5Z3r95"
      },
      "execution_count": null,
      "outputs": []
    },
    {
      "cell_type": "code",
      "source": [
        "len(file_list)"
      ],
      "metadata": {
        "id": "2IFmVVoY4oo7"
      },
      "execution_count": null,
      "outputs": []
    },
    {
      "cell_type": "code",
      "source": [
        "data['class'].value_counts()"
      ],
      "metadata": {
        "id": "ePeyBbU14pvd"
      },
      "execution_count": null,
      "outputs": []
    },
    {
      "cell_type": "code",
      "source": [
        "data['state'].value_counts()"
      ],
      "metadata": {
        "id": "N0KfmFoYM_f7"
      },
      "execution_count": null,
      "outputs": []
    },
    {
      "cell_type": "code",
      "source": [
        "data['label'].value_counts()"
      ],
      "metadata": {
        "id": "wzk_ZS_gNG6R"
      },
      "execution_count": null,
      "outputs": []
    },
    {
      "cell_type": "code",
      "source": [
        "data[data['class']=='hazelnut']['state'].value_counts()"
      ],
      "metadata": {
        "id": "JvuWcooSPbHD"
      },
      "execution_count": null,
      "outputs": []
    },
    {
      "cell_type": "code",
      "source": [
        "data['class'].unique()[:2]"
      ],
      "metadata": {
        "id": "n92FT2KuS6pX"
      },
      "execution_count": null,
      "outputs": []
    },
    {
      "cell_type": "code",
      "source": [
        "for i in data['class'].unique():\n",
        "\n",
        "  index = data[data['class']==i]['state'].value_counts().index\n",
        "  x = np.arange(len(index))\n",
        "  y = data[data['class']==i]['state'].value_counts().values\n",
        "  colors = ['yellowgreen'] + ['r'] * (len(index)-1)\n",
        "\n",
        "  plt.figure(figsize=(15,5))\n",
        "  plt.bar(x,y, color = colors)\n",
        "  plt.title(i)\n",
        "  plt.xticks(x,index)\n",
        "  for x,y in enumerate(data[data['class']==i]['state'].value_counts()):\n",
        "    plt.text(x,y, str(y))\n",
        "  plt.show()"
      ],
      "metadata": {
        "id": "WGEEfw3hQ-eN"
      },
      "execution_count": null,
      "outputs": []
    },
    {
      "cell_type": "code",
      "source": [
        "shape = []\n",
        "for i in data['file_name']:\n",
        "  filepath = '/content/drive/MyDrive/Git/campic_project/이상치탐지공모전/open/train/' + i\n",
        "\n",
        "  img= cv2.imread(filepath, cv2.IMREAD_COLOR)\n",
        "\n",
        "  shape.append(img.shape)"
      ],
      "metadata": {
        "id": "U1eMEl38XLo2"
      },
      "execution_count": null,
      "outputs": []
    },
    {
      "cell_type": "code",
      "source": [
        "img_shape = pd.DataFrame(shape, columns = ['width', 'height', 'channel'])"
      ],
      "metadata": {
        "id": "v8SteLSyZvu-"
      },
      "execution_count": null,
      "outputs": []
    },
    {
      "cell_type": "code",
      "source": [
        "img_shape.head()"
      ],
      "metadata": {
        "id": "wtNwaUHlarKv"
      },
      "execution_count": null,
      "outputs": []
    },
    {
      "cell_type": "code",
      "source": [
        "print(img_shape['width'].unique())\n",
        "\n",
        "print(img_shape['height'].unique())\n",
        "\n",
        "print(img_shape['channel'].unique())"
      ],
      "metadata": {
        "id": "atu5DmyQauXF"
      },
      "execution_count": null,
      "outputs": []
    },
    {
      "cell_type": "code",
      "source": [
        "for i in range(len(img_shape)):\n",
        "  if img_shape['width'][i] != img_shape['height'][i]:\n",
        "    print(i)"
      ],
      "metadata": {
        "id": "3YE5LGkobFO1"
      },
      "execution_count": null,
      "outputs": []
    },
    {
      "cell_type": "code",
      "source": [
        "print(img_shape['width'].value_counts())"
      ],
      "metadata": {
        "id": "eYXDonFGbV4e"
      },
      "execution_count": null,
      "outputs": []
    },
    {
      "cell_type": "code",
      "source": [
        ""
      ],
      "metadata": {
        "id": "Zg40EwfibqGt"
      },
      "execution_count": null,
      "outputs": []
    }
  ]
}