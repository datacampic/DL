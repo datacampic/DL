{
  "nbformat": 4,
  "nbformat_minor": 0,
  "metadata": {
    "colab": {
      "name": "CNN.ipynb",
      "private_outputs": true,
      "provenance": [],
      "collapsed_sections": []
    },
    "kernelspec": {
      "name": "python3",
      "display_name": "Python 3"
    },
    "language_info": {
      "name": "python"
    },
    "accelerator": "GPU"
  },
  "cells": [
    {
      "cell_type": "markdown",
      "source": [
        "# CNN(Convolutional neural network)"
      ],
      "metadata": {
        "id": "okTHo7gpiSuf"
      }
    },
    {
      "cell_type": "markdown",
      "source": [
        "## MLP의 한계"
      ],
      "metadata": {
        "id": "rLPu7YfvNF6d"
      }
    },
    {
      "cell_type": "markdown",
      "source": [
        "<img src = \"https://raw.githubusercontent.com/minsuk-heo/deeplearning/master/img/mlp_overview.png\" height = 300 width = 400>"
      ],
      "metadata": {
        "id": "-1BojgDbMvkt"
      }
    },
    {
      "cell_type": "markdown",
      "source": [
        "<img src = \"https://raw.githubusercontent.com/minsuk-heo/deeplearning/master/img/mlp_overview2.png\" height = 300 width = 400>"
      ],
      "metadata": {
        "id": "3kCT9DJPNmzm"
      }
    },
    {
      "cell_type": "markdown",
      "source": [
        "*   MLP에서는 이미지 배열을 한줄로 쭉 펴서 확인하기 때문에 이미지의 특징을 찾기 힘들다.\n",
        "*   때문에 시간이 많이걸리고 결국 overfitting의 문제가 생긴다."
      ],
      "metadata": {
        "id": "AbEXU1q-N7pC"
      }
    },
    {
      "cell_type": "markdown",
      "source": [
        "## CNN"
      ],
      "metadata": {
        "id": "epsafK9aOQky"
      }
    },
    {
      "cell_type": "markdown",
      "source": [
        "*   CNN은 MLP의 한계를 개선하기 위해 등장하였다.\n",
        "*   CNN은 2D배열로 표현되어 뉴련을 입력과 연결하기 더 쉽다.\n",
        "*   CNN은 크게 합성곱층과 풀링층으로 구성된다.\n",
        "\n",
        "\n",
        "\n"
      ],
      "metadata": {
        "id": "F--yBmOYiatz"
      }
    },
    {
      "cell_type": "markdown",
      "source": [
        "### 1. 시각피질 구조\n",
        "\n"
      ],
      "metadata": {
        "id": "BXM3ANwLDZ07"
      }
    },
    {
      "cell_type": "markdown",
      "source": [
        "*   신경망을 사람의 뇌를 기반으로 만들어졌다면 CNN은 사람의 시각피질을 본따서 만든 구조이다.\n",
        "\n",
        "*   CNN은 하위계층에서 이미지의 패턴을 찾고, 상위계층에서 그 패턴들을 조합함으로써 이미지를 추상화시킨다.\n",
        "\n",
        "*   CNN은 이미지 처리 문제에서 큰 성능을 발휘하여 이미지 검색 서비스, 자율주행 자동차, 영상 자동 분류 시스템 등에 활용된다\n",
        "\n",
        "\n",
        "*   CNN은 시각분야에 국한되지 않고 음성인식이나 자연어처리(NLP)에서도 많이 사용된다."
      ],
      "metadata": {
        "id": "sYAoPradDVCz"
      }
    },
    {
      "cell_type": "markdown",
      "source": [
        "### 2. 합성곱 층"
      ],
      "metadata": {
        "id": "g928kNmPGUv4"
      }
    },
    {
      "cell_type": "markdown",
      "source": [
        "*   필터(커널) : 이미지의 특징을 찾아내기 위한 공용 파라미터로 합성곱 연산을 도와주는 배열 형태의 도구이다.\n",
        "*   스트라이드 : 필터를 순회하는 간격\n",
        "\n",
        "\n",
        "\n"
      ],
      "metadata": {
        "id": "wAt7gDxvQcZE"
      }
    },
    {
      "cell_type": "markdown",
      "source": [
        "<img src = \"https://raw.githubusercontent.com/minsuk-heo/deeplearning/master/img/stride.png\" width=500 height=150>\n",
        "\n",
        "\n",
        "> 5×5 데이터를 2×2 필터로 합성곱 연산\n",
        "\n"
      ],
      "metadata": {
        "id": "PaVQTDDmSer6"
      }
    },
    {
      "cell_type": "markdown",
      "source": [
        "<img src = \"https://raw.githubusercontent.com/minsuk-heo/deeplearning/master/img/elem_mul.png\" width = 500 height =400>\n",
        "\n",
        "> 합성곱 계산방법\n",
        "\n"
      ],
      "metadata": {
        "id": "ph7mLHPvSh-i"
      }
    },
    {
      "cell_type": "markdown",
      "source": [
        "<img src = \"https://raw.githubusercontent.com/minsuk-heo/deeplearning/master/img/stride_result.png\" width = 500 height = 400>\n",
        "\n",
        "\n",
        "> 합성곱 연산 과정\n",
        "\n"
      ],
      "metadata": {
        "id": "qjyK9XG5SiBI"
      }
    },
    {
      "cell_type": "markdown",
      "source": [
        "*   패딩 : 합성곱 층에서 합성곱 연산후 출력되는 Feature Map은 입력데이터보다 크기가 작다. 이를 방지하기 위한 방법인 패딩은 입력 데이터 외곽에 지정된 픽셀만큼 0으로 채우는 것을 말한다. 0으로 채우는 것을 제로패딩이라고도 한다,\n",
        "         ※ 패딩을 사용하는 이유 : 정보의 손실을 막고, CNN에게 패딩위치가 이미지의 끝부분임을 알려 줄 수 있음."
      ],
      "metadata": {
        "id": "6ndip-pOcB3Z"
      }
    },
    {
      "cell_type": "markdown",
      "source": [
        "<img src = \"https://raw.githubusercontent.com/minsuk-heo/deeplearning/master/img/zeropadding.png\" width = 500 height = 400>\n",
        "\n",
        "> 패딩\n",
        "\n"
      ],
      "metadata": {
        "id": "JCpCBFGfSiIf"
      }
    },
    {
      "cell_type": "markdown",
      "source": [
        "*   채널 : \n"
      ],
      "metadata": {
        "id": "Grvj1ZYVcF4t"
      }
    },
    {
      "cell_type": "markdown",
      "source": [
        "### 3. 풀링층\n",
        "\n",
        "\n"
      ],
      "metadata": {
        "id": "-490OsoUSiDt"
      }
    },
    {
      "cell_type": "markdown",
      "source": [
        "\n",
        "\n",
        "*   풀링(Pooling) : 합성곱 연산을 거친 후 출력된 Feature Map의 크기를 줄이는 과정을 말한다. Feature map에 필터(커널)와 스트라이드 개념을 접목시켜 크기를 줄인다. 주로 최대 풀링(Max Pooling) 과 평균 풀링(Average Pooling)을 사용한다.\n",
        "   *   최대 풀링 : 필터에 포함된 값 중 가장 큰 값을 반환\n",
        "   *   평균 풀링 : 필터에 포함된 값들의 평균을 반환\n",
        "\n",
        "\n",
        "         ※ 일반적으로 평균풀링보다는 최대 풀링이 성능이 좋아서 최대풀링이 많이 쓰인다.\n",
        "\n",
        "\n",
        "\n",
        "\n"
      ],
      "metadata": {
        "id": "RFODU0-HVvDj"
      }
    },
    {
      "cell_type": "markdown",
      "source": [
        "<img src = \"https://taewanmerepo.github.io/2018/02/cnn/maxpulling.png\" width = 500 height = 400>\n",
        "\n",
        "\n",
        "> 2×2 필터와 스트라이드 2로 최대풀링과 평균풀링 연산\n",
        "\n"
      ],
      "metadata": {
        "id": "CEqmuWvqVvF3"
      }
    },
    {
      "cell_type": "markdown",
      "source": [
        "### 4. CNN 구조"
      ],
      "metadata": {
        "id": "IYjt19qgVvIA"
      }
    },
    {
      "cell_type": "markdown",
      "source": [
        "\n",
        "\n",
        "*   전형적인 CNN구조는 합성곱 층을 몇 개 쌓고, 그다음에 풀링층을 쌓고, 그다음에 또 합성곱 층을 몇개 더 쌓고, 그다음에 다시 풀링층을 쌓는 방식이다.\n",
        "*   CNN에서는 주로 활성화 함수는 Relu를 사용한다.\n",
        "*   CNN은 합성곱층과 풀링층을 이용하여 특성을 추출하고 그 뒤에 Fully Connected Layer를 쌓아서 추출한 특성을 이용한다.\n",
        "*   Fully Connected Layer에는 과대적합을 방지하기위한 Dropout층을 추가하고 마지막층에는 Softmax함수를 사용한다.\n"
      ],
      "metadata": {
        "id": "IYiYuegGVvKZ"
      }
    },
    {
      "cell_type": "markdown",
      "source": [
        "<img src = \"https://raw.githubusercontent.com/minsuk-heo/deeplearning/master/img/practice_cnn.png\" width=800 height=350>\n",
        "\n",
        "> CNN 기본 구조\n",
        "\n"
      ],
      "metadata": {
        "id": "wLdK_rLWSiK2"
      }
    },
    {
      "cell_type": "markdown",
      "source": [
        ""
      ],
      "metadata": {
        "id": "Tqfxxyb0SiNX"
      }
    }
  ]
}