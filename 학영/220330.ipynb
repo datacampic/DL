{
  "nbformat": 4,
  "nbformat_minor": 0,
  "metadata": {
    "colab": {
      "name": "220330.ipynb",
      "provenance": [],
      "authorship_tag": "ABX9TyMx5fR3EdtNQe5cdbZQNuT2"
    },
    "kernelspec": {
      "name": "python3",
      "display_name": "Python 3"
    },
    "language_info": {
      "name": "python"
    }
  },
  "cells": [
    {
      "cell_type": "code",
      "source": [
        "from google.colab import drive\n",
        "drive.mount('/content/drive')"
      ],
      "metadata": {
        "colab": {
          "base_uri": "https://localhost:8080/"
        },
        "id": "MBRZNiDZdrWF",
        "outputId": "9b3e0653-a774-41e8-acca-ab18e9f4f7d6"
      },
      "execution_count": 1,
      "outputs": [
        {
          "output_type": "stream",
          "name": "stdout",
          "text": [
            "Mounted at /content/drive\n"
          ]
        }
      ]
    },
    {
      "cell_type": "code",
      "source": [
        "import os \n",
        "os.chdir('/content/drive/MyDrive/Git/campic_project/데이터')"
      ],
      "metadata": {
        "id": "SY367jy1e_Vc"
      },
      "execution_count": 7,
      "outputs": []
    },
    {
      "cell_type": "code",
      "source": [
        "!unzip -qq \"/content/drive/MyDrive/Git/campic_project/데이터/data.zip\""
      ],
      "metadata": {
        "id": "47MzCXYQdsB1"
      },
      "execution_count": 2,
      "outputs": []
    },
    {
      "cell_type": "code",
      "source": [
        "!unzip -qq \"/content/drive/MyDrive/Git/campic_project/데이터/test.zip\""
      ],
      "metadata": {
        "id": "mINmaAKrd5Rf"
      },
      "execution_count": 8,
      "outputs": []
    },
    {
      "cell_type": "code",
      "source": [
        "!unzip -qq \"/content/drive/MyDrive/Git/campic_project/데이터/train.zip\""
      ],
      "metadata": {
        "id": "n9klzx1afYOu"
      },
      "execution_count": 10,
      "outputs": []
    },
    {
      "cell_type": "markdown",
      "source": [
        "- image : 이미지 파일 이름 \n",
        "- date : 촬영날짜 \n",
        "- time : 촬영 시간\n",
        "- region : 촬영 지역 \n",
        "- height : 이미지 높이 \n",
        "- width : 이미지 너비 \n",
        "- task : 데이터 종류 \n",
        "--- \n",
        "- disease : 작물 상태 코드 \n",
        "- crop : 작물 코드 \n",
        "- area : 작물 촬영 부위 \n",
        "- grow : 작물의 생육 단계 \n",
        "- risk : 질병 피해 정도 \n",
        "- bbox : 주목 객체 바운딩 박스 (x,y,w,h)\n",
        "- part : 병해 부위 바운딩 박스 (x,y,w,h)"
      ],
      "metadata": {
        "id": "V_nOboxJrAcl"
      }
    },
    {
      "cell_type": "code",
      "source": [
        "import json\n",
        "\n",
        "with open(\"/content/drive/MyDrive/Git/campic_project/데이터/train/10027/10027.json\", 'r') as f:\n",
        "\n",
        "    json_data = json.load(f)\n",
        "\n",
        "print(json.dumps(json_data) )"
      ],
      "metadata": {
        "colab": {
          "base_uri": "https://localhost:8080/"
        },
        "id": "SitutjofluLA",
        "outputId": "a6b2ac10-dc1e-42b9-f3ac-be0602c2ace0"
      },
      "execution_count": 11,
      "outputs": [
        {
          "output_type": "stream",
          "name": "stdout",
          "text": [
            "{\"description\": {\"date\": \"20211126\", \"image\": \"10027.jpg\", \"task\": 2, \"width\": 384, \"time\": \"0935\", \"region\": 0, \"height\": 512}, \"annotations\": {\"area\": 3, \"disease\": \"b7\", \"grow\": 13, \"bbox\": [{\"x\": 89.14301990327381, \"h\": 237.8629402281746, \"y\": 162.00396825396825, \"w\": 165.0040302579365}], \"part\": [{\"x\": 125.57248263888889, \"h\": 78.85906498015873, \"y\": 177.43291170634922, \"id\": 0, \"w\": 32.14364769345238}, {\"x\": 162.8591114831349, \"h\": 57.858568948412696, \"y\": 187.290287078373, \"id\": 1, \"w\": 35.57229662698413}], \"risk\": 1, \"crop\": 3}}\n"
          ]
        }
      ]
    },
    {
      "cell_type": "code",
      "source": [
        "json_data['annotations']['crop']"
      ],
      "metadata": {
        "colab": {
          "base_uri": "https://localhost:8080/"
        },
        "id": "ZGUZd5ZNq3ST",
        "outputId": "39a9e440-0cba-42ec-cadf-504db20a9620"
      },
      "execution_count": 18,
      "outputs": [
        {
          "output_type": "execute_result",
          "data": {
            "text/plain": [
              "3"
            ]
          },
          "metadata": {},
          "execution_count": 18
        }
      ]
    },
    {
      "cell_type": "code",
      "source": [
        ""
      ],
      "metadata": {
        "id": "UZj-1646unhk"
      },
      "execution_count": null,
      "outputs": []
    }
  ]
}